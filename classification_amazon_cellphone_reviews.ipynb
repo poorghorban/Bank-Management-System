{
  "nbformat": 4,
  "nbformat_minor": 0,
  "metadata": {
    "colab": {
      "name": "classification_amazon_cellphone_reviews.ipynb",
      "provenance": [],
      "collapsed_sections": [
        "I81MSjidv92p",
        "pF6Gped3hiJe",
        "5U9-ee3ViAGE",
        "wVo4V-aNMpBu",
        "KSfk7X4ITR3j"
      ],
      "authorship_tag": "ABX9TyNfEIees5nJfmQqq0kbJuTT",
      "include_colab_link": true
    },
    "kernelspec": {
      "name": "python3",
      "display_name": "Python 3"
    }
  },
  "cells": [
    {
      "cell_type": "markdown",
      "metadata": {
        "id": "view-in-github",
        "colab_type": "text"
      },
      "source": [
        "<a href=\"https://colab.research.google.com/github/poorghorban/Bank-Management-System/blob/master/classification_amazon_cellphone_reviews.ipynb\" target=\"_parent\"><img src=\"https://colab.research.google.com/assets/colab-badge.svg\" alt=\"Open In Colab\"/></a>"
      ]
    },
    {
      "cell_type": "markdown",
      "metadata": {
        "id": "EhS9Evz-9-SV",
        "colab_type": "text"
      },
      "source": [
        "# **Classification Amazon Cellphone Reviews Project**"
      ]
    },
    {
      "cell_type": "markdown",
      "metadata": {
        "id": "xdSbLLFd-vcW",
        "colab_type": "text"
      },
      "source": [
        "requirment:\n",
        "- python 3.x\n",
        "- pip install pandas\n",
        "- pip install tensorflow\n",
        "- pip install keras \n",
        "- pip install matplotlib\n",
        "- pip install nltk\n",
        "- pip install gensim"
      ]
    },
    {
      "cell_type": "markdown",
      "metadata": {
        "id": "H2L63mHq_jDc",
        "colab_type": "text"
      },
      "source": [
        "##**Step1: Loading Data**"
      ]
    },
    {
      "cell_type": "code",
      "metadata": {
        "id": "jCKq9-CY-KWu",
        "colab_type": "code",
        "colab": {}
      },
      "source": [
        "import pandas as pd \n",
        "import tensorflow as tf"
      ],
      "execution_count": 1,
      "outputs": []
    },
    {
      "cell_type": "code",
      "metadata": {
        "id": "QJSbo952ASJR",
        "colab_type": "code",
        "colab": {}
      },
      "source": [
        "## dataset url\n",
        "DATA_URL = \"https://raw.githubusercontent.com/poorghorban/Classification-Amazon-Cellphone-Reviews/master/data/amazon_cellphone_reviews.csv\""
      ],
      "execution_count": 2,
      "outputs": []
    },
    {
      "cell_type": "code",
      "metadata": {
        "id": "bjJyny6JEZiT",
        "colab_type": "code",
        "colab": {}
      },
      "source": [
        "## download data from url \n",
        "data_file_path = tf.keras.utils.get_file(\"amazon_cellphone_reviews.csv\",DATA_URL)"
      ],
      "execution_count": 3,
      "outputs": []
    },
    {
      "cell_type": "code",
      "metadata": {
        "id": "PbIxMojYE2Qe",
        "colab_type": "code",
        "colab": {
          "base_uri": "https://localhost:8080/",
          "height": 35
        },
        "outputId": "2d084f1b-d4ff-4218-8880-a2f47cd03dcf"
      },
      "source": [
        "## path file \n",
        "data_file_path"
      ],
      "execution_count": 4,
      "outputs": [
        {
          "output_type": "execute_result",
          "data": {
            "application/vnd.google.colaboratory.intrinsic+json": {
              "type": "string"
            },
            "text/plain": [
              "'/root/.keras/datasets/amazon_cellphone_reviews.csv'"
            ]
          },
          "metadata": {
            "tags": []
          },
          "execution_count": 4
        }
      ]
    },
    {
      "cell_type": "code",
      "metadata": {
        "id": "g84fB3z9e8qG",
        "colab_type": "code",
        "colab": {}
      },
      "source": [
        "## read data from file \n",
        "df = pd.read_csv(data_file_path)"
      ],
      "execution_count": 5,
      "outputs": []
    },
    {
      "cell_type": "code",
      "metadata": {
        "id": "0fBJTH2Af8bA",
        "colab_type": "code",
        "colab": {
          "base_uri": "https://localhost:8080/",
          "height": 204
        },
        "outputId": "933affb5-77f4-46d4-8c5c-688bcd6b0e57"
      },
      "source": [
        "## show data \n",
        "df.head()"
      ],
      "execution_count": 6,
      "outputs": [
        {
          "output_type": "execute_result",
          "data": {
            "text/html": [
              "<div>\n",
              "<style scoped>\n",
              "    .dataframe tbody tr th:only-of-type {\n",
              "        vertical-align: middle;\n",
              "    }\n",
              "\n",
              "    .dataframe tbody tr th {\n",
              "        vertical-align: top;\n",
              "    }\n",
              "\n",
              "    .dataframe thead th {\n",
              "        text-align: right;\n",
              "    }\n",
              "</style>\n",
              "<table border=\"1\" class=\"dataframe\">\n",
              "  <thead>\n",
              "    <tr style=\"text-align: right;\">\n",
              "      <th></th>\n",
              "      <th>asin</th>\n",
              "      <th>name</th>\n",
              "      <th>rating</th>\n",
              "      <th>date</th>\n",
              "      <th>verified</th>\n",
              "      <th>title</th>\n",
              "      <th>body</th>\n",
              "      <th>helpfulVotes</th>\n",
              "    </tr>\n",
              "  </thead>\n",
              "  <tbody>\n",
              "    <tr>\n",
              "      <th>0</th>\n",
              "      <td>B0000SX2UC</td>\n",
              "      <td>Janet</td>\n",
              "      <td>3</td>\n",
              "      <td>October 11, 2005</td>\n",
              "      <td>False</td>\n",
              "      <td>Def not best, but not worst</td>\n",
              "      <td>I had the Samsung A600 for awhile which is abs...</td>\n",
              "      <td>1.0</td>\n",
              "    </tr>\n",
              "    <tr>\n",
              "      <th>1</th>\n",
              "      <td>B0000SX2UC</td>\n",
              "      <td>Luke Wyatt</td>\n",
              "      <td>1</td>\n",
              "      <td>January 7, 2004</td>\n",
              "      <td>False</td>\n",
              "      <td>Text Messaging Doesn't Work</td>\n",
              "      <td>Due to a software issue between Nokia and Spri...</td>\n",
              "      <td>17.0</td>\n",
              "    </tr>\n",
              "    <tr>\n",
              "      <th>2</th>\n",
              "      <td>B0000SX2UC</td>\n",
              "      <td>Brooke</td>\n",
              "      <td>5</td>\n",
              "      <td>December 30, 2003</td>\n",
              "      <td>False</td>\n",
              "      <td>Love This Phone</td>\n",
              "      <td>This is a great, reliable phone. I also purcha...</td>\n",
              "      <td>5.0</td>\n",
              "    </tr>\n",
              "    <tr>\n",
              "      <th>3</th>\n",
              "      <td>B0000SX2UC</td>\n",
              "      <td>amy m. teague</td>\n",
              "      <td>3</td>\n",
              "      <td>March 18, 2004</td>\n",
              "      <td>False</td>\n",
              "      <td>Love the Phone, BUT...!</td>\n",
              "      <td>I love the phone and all, because I really did...</td>\n",
              "      <td>1.0</td>\n",
              "    </tr>\n",
              "    <tr>\n",
              "      <th>4</th>\n",
              "      <td>B0000SX2UC</td>\n",
              "      <td>tristazbimmer</td>\n",
              "      <td>4</td>\n",
              "      <td>August 28, 2005</td>\n",
              "      <td>False</td>\n",
              "      <td>Great phone service and options, lousy case!</td>\n",
              "      <td>The phone has been great for every purpose it ...</td>\n",
              "      <td>1.0</td>\n",
              "    </tr>\n",
              "  </tbody>\n",
              "</table>\n",
              "</div>"
            ],
            "text/plain": [
              "         asin  ... helpfulVotes\n",
              "0  B0000SX2UC  ...          1.0\n",
              "1  B0000SX2UC  ...         17.0\n",
              "2  B0000SX2UC  ...          5.0\n",
              "3  B0000SX2UC  ...          1.0\n",
              "4  B0000SX2UC  ...          1.0\n",
              "\n",
              "[5 rows x 8 columns]"
            ]
          },
          "metadata": {
            "tags": []
          },
          "execution_count": 6
        }
      ]
    },
    {
      "cell_type": "code",
      "metadata": {
        "id": "CC82w1BNgBLe",
        "colab_type": "code",
        "colab": {
          "base_uri": "https://localhost:8080/",
          "height": 34
        },
        "outputId": "bc005de5-df77-41ae-97a6-24d64df786b6"
      },
      "source": [
        "## data shape\n",
        "df.shape"
      ],
      "execution_count": 7,
      "outputs": [
        {
          "output_type": "execute_result",
          "data": {
            "text/plain": [
              "(67986, 8)"
            ]
          },
          "metadata": {
            "tags": []
          },
          "execution_count": 7
        }
      ]
    },
    {
      "cell_type": "markdown",
      "metadata": {
        "id": "I81MSjidv92p",
        "colab_type": "text"
      },
      "source": [
        "#### **Missing Value**"
      ]
    },
    {
      "cell_type": "code",
      "metadata": {
        "id": "DL88hgxiq94d",
        "colab_type": "code",
        "colab": {
          "base_uri": "https://localhost:8080/",
          "height": 170
        },
        "outputId": "cd9d3ca9-143b-4022-cda0-c8b9ce8f9a01"
      },
      "source": [
        "## check exsist missing value\n",
        "df.isnull().sum()"
      ],
      "execution_count": 8,
      "outputs": [
        {
          "output_type": "execute_result",
          "data": {
            "text/plain": [
              "asin                0\n",
              "name                2\n",
              "rating              0\n",
              "date                0\n",
              "verified            0\n",
              "title              14\n",
              "body               21\n",
              "helpfulVotes    40771\n",
              "dtype: int64"
            ]
          },
          "metadata": {
            "tags": []
          },
          "execution_count": 8
        }
      ]
    },
    {
      "cell_type": "code",
      "metadata": {
        "id": "BarH7p-NulDA",
        "colab_type": "code",
        "colab": {}
      },
      "source": [
        "## remove column 'helpfulVotes' - missing value are to high\n",
        "del df['helpfulVotes']"
      ],
      "execution_count": 9,
      "outputs": []
    },
    {
      "cell_type": "code",
      "metadata": {
        "id": "u-bI0E_6rFL3",
        "colab_type": "code",
        "colab": {
          "base_uri": "https://localhost:8080/",
          "height": 153
        },
        "outputId": "393cf320-a19c-4312-cb72-1c2df2252bd5"
      },
      "source": [
        "## drop rows where at least one element is missing\n",
        "df = df.dropna()\n",
        "df.isnull().sum()"
      ],
      "execution_count": 10,
      "outputs": [
        {
          "output_type": "execute_result",
          "data": {
            "text/plain": [
              "asin        0\n",
              "name        0\n",
              "rating      0\n",
              "date        0\n",
              "verified    0\n",
              "title       0\n",
              "body        0\n",
              "dtype: int64"
            ]
          },
          "metadata": {
            "tags": []
          },
          "execution_count": 10
        }
      ]
    },
    {
      "cell_type": "code",
      "metadata": {
        "id": "lVqfVIpWgVOU",
        "colab_type": "code",
        "colab": {}
      },
      "source": [
        "## concate two columns 'title' and 'body'\n",
        "df['review'] = df['title'] + ' ' + df['body']"
      ],
      "execution_count": 11,
      "outputs": []
    },
    {
      "cell_type": "code",
      "metadata": {
        "id": "EL_FjmdFgmJI",
        "colab_type": "code",
        "colab": {}
      },
      "source": [
        "## need two columns 'rating'(label) and 'title_body'(features)\n",
        "df = df[['rating','review']]"
      ],
      "execution_count": 12,
      "outputs": []
    },
    {
      "cell_type": "code",
      "metadata": {
        "id": "H9JN-yZ8gpas",
        "colab_type": "code",
        "colab": {
          "base_uri": "https://localhost:8080/",
          "height": 204
        },
        "outputId": "0618c3eb-8185-4251-f8fb-dc5c921a1ab5"
      },
      "source": [
        "## new data\n",
        "df.head()"
      ],
      "execution_count": 13,
      "outputs": [
        {
          "output_type": "execute_result",
          "data": {
            "text/html": [
              "<div>\n",
              "<style scoped>\n",
              "    .dataframe tbody tr th:only-of-type {\n",
              "        vertical-align: middle;\n",
              "    }\n",
              "\n",
              "    .dataframe tbody tr th {\n",
              "        vertical-align: top;\n",
              "    }\n",
              "\n",
              "    .dataframe thead th {\n",
              "        text-align: right;\n",
              "    }\n",
              "</style>\n",
              "<table border=\"1\" class=\"dataframe\">\n",
              "  <thead>\n",
              "    <tr style=\"text-align: right;\">\n",
              "      <th></th>\n",
              "      <th>rating</th>\n",
              "      <th>review</th>\n",
              "    </tr>\n",
              "  </thead>\n",
              "  <tbody>\n",
              "    <tr>\n",
              "      <th>0</th>\n",
              "      <td>3</td>\n",
              "      <td>Def not best, but not worst I had the Samsung ...</td>\n",
              "    </tr>\n",
              "    <tr>\n",
              "      <th>1</th>\n",
              "      <td>1</td>\n",
              "      <td>Text Messaging Doesn't Work Due to a software ...</td>\n",
              "    </tr>\n",
              "    <tr>\n",
              "      <th>2</th>\n",
              "      <td>5</td>\n",
              "      <td>Love This Phone This is a great, reliable phon...</td>\n",
              "    </tr>\n",
              "    <tr>\n",
              "      <th>3</th>\n",
              "      <td>3</td>\n",
              "      <td>Love the Phone, BUT...! I love the phone and a...</td>\n",
              "    </tr>\n",
              "    <tr>\n",
              "      <th>4</th>\n",
              "      <td>4</td>\n",
              "      <td>Great phone service and options, lousy case! T...</td>\n",
              "    </tr>\n",
              "  </tbody>\n",
              "</table>\n",
              "</div>"
            ],
            "text/plain": [
              "   rating                                             review\n",
              "0       3  Def not best, but not worst I had the Samsung ...\n",
              "1       1  Text Messaging Doesn't Work Due to a software ...\n",
              "2       5  Love This Phone This is a great, reliable phon...\n",
              "3       3  Love the Phone, BUT...! I love the phone and a...\n",
              "4       4  Great phone service and options, lousy case! T..."
            ]
          },
          "metadata": {
            "tags": []
          },
          "execution_count": 13
        }
      ]
    },
    {
      "cell_type": "code",
      "metadata": {
        "id": "JiFQxXJpi7Ls",
        "colab_type": "code",
        "colab": {
          "base_uri": "https://localhost:8080/",
          "height": 34
        },
        "outputId": "85ab9e71-812a-494c-d16b-4714a9e1d816"
      },
      "source": [
        "## data shape\n",
        "df.shape"
      ],
      "execution_count": 14,
      "outputs": [
        {
          "output_type": "execute_result",
          "data": {
            "text/plain": [
              "(67954, 2)"
            ]
          },
          "metadata": {
            "tags": []
          },
          "execution_count": 14
        }
      ]
    },
    {
      "cell_type": "code",
      "metadata": {
        "id": "v5-cCpXiu1Ds",
        "colab_type": "code",
        "colab": {}
      },
      "source": [
        ""
      ],
      "execution_count": 14,
      "outputs": []
    },
    {
      "cell_type": "markdown",
      "metadata": {
        "id": "g8V8f_DigweB",
        "colab_type": "text"
      },
      "source": [
        "## **Step2: Analysing Data**"
      ]
    },
    {
      "cell_type": "code",
      "metadata": {
        "id": "KlTuh8_wgtk5",
        "colab_type": "code",
        "colab": {}
      },
      "source": [
        "import matplotlib.pyplot as plt"
      ],
      "execution_count": 15,
      "outputs": []
    },
    {
      "cell_type": "markdown",
      "metadata": {
        "id": "pF6Gped3hiJe",
        "colab_type": "text"
      },
      "source": [
        "#### **Bar plot rating**"
      ]
    },
    {
      "cell_type": "code",
      "metadata": {
        "id": "mZ36Z3D8hRsD",
        "colab_type": "code",
        "colab": {}
      },
      "source": [
        "## find unique rank and counts\n",
        "b = df['rating'].value_counts()\n",
        "rank , rank_counts = list(b.index) , list(b.values)"
      ],
      "execution_count": 16,
      "outputs": []
    },
    {
      "cell_type": "code",
      "metadata": {
        "id": "2YRA-azbhr5g",
        "colab_type": "code",
        "colab": {
          "base_uri": "https://localhost:8080/",
          "height": 325
        },
        "outputId": "8ea048c5-468b-4ede-ebd0-63a502a6febd"
      },
      "source": [
        "## bar plot \n",
        "#plt.figure(figsize=(10,5))\n",
        "bars = plt.bar(x=rank , height=rank_counts , width=0.5)\n",
        "xlocs, xlabs = plt.xticks()\n",
        "xlocs=[i for i in rank]\n",
        "xlabs=[i for i in rank]\n",
        "plt.xlabel('rating')\n",
        "plt.ylabel('counts')\n",
        "plt.xticks(xlocs, xlabs)\n",
        "for bar in bars:\n",
        "    yval = bar.get_height()\n",
        "    plt.text(bar.get_x()+0.05, yval + 0.005, yval)\n",
        "plt.suptitle('Bar Plot Counts of Rating' , fontsize=15)"
      ],
      "execution_count": 17,
      "outputs": [
        {
          "output_type": "execute_result",
          "data": {
            "text/plain": [
              "Text(0.5, 0.98, 'Bar Plot Counts of Rating')"
            ]
          },
          "metadata": {
            "tags": []
          },
          "execution_count": 17
        },
        {
          "output_type": "display_data",
          "data": {
            "image/png": "[encoded data removed]",
            "text/plain": [
              "<Figure size 432x288 with 1 Axes>"
            ]
          },
          "metadata": {
            "tags": [],
            "needs_background": "light"
          }
        }
      ]
    },
    {
      "cell_type": "markdown",
      "metadata": {
        "id": "5U9-ee3ViAGE",
        "colab_type": "text"
      },
      "source": [
        "#### **Box plot length of text reviews**"
      ]
    },
    {
      "cell_type": "code",
      "metadata": {
        "id": "i0h0Iftdh-Gd",
        "colab_type": "code",
        "colab": {}
      },
      "source": [
        "## find length of texts \n",
        "len_texts = df['review'].apply(lambda t : len(t)).values"
      ],
      "execution_count": 18,
      "outputs": []
    },
    {
      "cell_type": "code",
      "metadata": {
        "id": "lySru7XyiJL3",
        "colab_type": "code",
        "colab": {
          "base_uri": "https://localhost:8080/",
          "height": 387
        },
        "outputId": "4bf697d5-f27a-4bf6-e91f-ebe799b52044"
      },
      "source": [
        "fig , (ax1,ax2) = plt.subplots(nrows=1 , ncols=2 , figsize=(10,5))\n",
        "## box plot \n",
        "ax1.boxplot(len_texts)\n",
        "ax1.set_xlabel('text')\n",
        "ax1.set_ylabel('length')\n",
        "## box plot with hide outlier points\n",
        "ax2.boxplot(len_texts , showfliers=False)\n",
        "ax2.set_title('Hide Outlier Points')\n",
        "ax2.set_xlabel('text')\n",
        "plt.suptitle('Box Plot Length of Text Review' , fontsize=15)"
      ],
      "execution_count": 19,
      "outputs": [
        {
          "output_type": "execute_result",
          "data": {
            "text/plain": [
              "Text(0.5, 0.98, 'Box Plot Length of Text Review')"
            ]
          },
          "metadata": {
            "tags": []
          },
          "execution_count": 19
        },
        {
          "output_type": "display_data",
          "data": {
            "image/png": "[encoded data removed]",
            "text/plain": [
              "<Figure size 720x360 with 2 Axes>"
            ]
          },
          "metadata": {
            "tags": [],
            "needs_background": "light"
          }
        }
      ]
    },
    {
      "cell_type": "code",
      "metadata": {
        "id": "166QeGi9iu6i",
        "colab_type": "code",
        "colab": {}
      },
      "source": [
        ""
      ],
      "execution_count": 19,
      "outputs": []
    },
    {
      "cell_type": "markdown",
      "metadata": {
        "id": "wVo4V-aNMpBu",
        "colab_type": "text"
      },
      "source": [
        "## **Step3 : Train and Validation Sets**"
      ]
    },
    {
      "cell_type": "code",
      "metadata": {
        "id": "c1dty-VnOFnh",
        "colab_type": "code",
        "colab": {}
      },
      "source": [
        "## hyperparameter \n",
        "training_portion = 0.8"
      ],
      "execution_count": 20,
      "outputs": []
    },
    {
      "cell_type": "code",
      "metadata": {
        "id": "3dGBLVV_Mxml",
        "colab_type": "code",
        "colab": {}
      },
      "source": [
        "## split data to train and valiation sets\n",
        "train=df.sample(frac=training_portion,random_state=200) #random state is a seed value\n",
        "validation=df.drop(train.index)"
      ],
      "execution_count": 21,
      "outputs": []
    },
    {
      "cell_type": "code",
      "metadata": {
        "id": "mbW5Wf-YPdBj",
        "colab_type": "code",
        "colab": {
          "base_uri": "https://localhost:8080/",
          "height": 204
        },
        "outputId": "c6748998-8d1f-41e0-92c4-72c7b8e031c2"
      },
      "source": [
        "## show train set\n",
        "train.head()"
      ],
      "execution_count": 22,
      "outputs": [
        {
          "output_type": "execute_result",
          "data": {
            "text/html": [
              "<div>\n",
              "<style scoped>\n",
              "    .dataframe tbody tr th:only-of-type {\n",
              "        vertical-align: middle;\n",
              "    }\n",
              "\n",
              "    .dataframe tbody tr th {\n",
              "        vertical-align: top;\n",
              "    }\n",
              "\n",
              "    .dataframe thead th {\n",
              "        text-align: right;\n",
              "    }\n",
              "</style>\n",
              "<table border=\"1\" class=\"dataframe\">\n",
              "  <thead>\n",
              "    <tr style=\"text-align: right;\">\n",
              "      <th></th>\n",
              "      <th>rating</th>\n",
              "      <th>review</th>\n",
              "    </tr>\n",
              "  </thead>\n",
              "  <tbody>\n",
              "    <tr>\n",
              "      <th>19375</th>\n",
              "      <td>5</td>\n",
              "      <td>El celular está en buenas condiciones Ubicar e...</td>\n",
              "    </tr>\n",
              "    <tr>\n",
              "      <th>67536</th>\n",
              "      <td>3</td>\n",
              "      <td>Okay phone with mediocre battery life. They re...</td>\n",
              "    </tr>\n",
              "    <tr>\n",
              "      <th>29537</th>\n",
              "      <td>3</td>\n",
              "      <td>Buy a phone with a warranty. Seems like they a...</td>\n",
              "    </tr>\n",
              "    <tr>\n",
              "      <th>55767</th>\n",
              "      <td>5</td>\n",
              "      <td>Nice phone Bought this for my 11 year old daug...</td>\n",
              "    </tr>\n",
              "    <tr>\n",
              "      <th>31352</th>\n",
              "      <td>5</td>\n",
              "      <td>Best purchase Bought this for my business. It ...</td>\n",
              "    </tr>\n",
              "  </tbody>\n",
              "</table>\n",
              "</div>"
            ],
            "text/plain": [
              "       rating                                             review\n",
              "19375       5  El celular está en buenas condiciones Ubicar e...\n",
              "67536       3  Okay phone with mediocre battery life. They re...\n",
              "29537       3  Buy a phone with a warranty. Seems like they a...\n",
              "55767       5  Nice phone Bought this for my 11 year old daug...\n",
              "31352       5  Best purchase Bought this for my business. It ..."
            ]
          },
          "metadata": {
            "tags": []
          },
          "execution_count": 22
        }
      ]
    },
    {
      "cell_type": "code",
      "metadata": {
        "id": "8ew6GGTcM4T5",
        "colab_type": "code",
        "colab": {
          "base_uri": "https://localhost:8080/",
          "height": 34
        },
        "outputId": "c48e58dd-0bc9-4c90-d25d-fb28c4f9448a"
      },
      "source": [
        "## train set shape\n",
        "train.shape"
      ],
      "execution_count": 23,
      "outputs": [
        {
          "output_type": "execute_result",
          "data": {
            "text/plain": [
              "(54363, 2)"
            ]
          },
          "metadata": {
            "tags": []
          },
          "execution_count": 23
        }
      ]
    },
    {
      "cell_type": "code",
      "metadata": {
        "id": "ItIMtclgP2Km",
        "colab_type": "code",
        "colab": {
          "base_uri": "https://localhost:8080/",
          "height": 204
        },
        "outputId": "cd6689cb-a942-4d2b-c546-d4108f51bded"
      },
      "source": [
        "## show validation set\n",
        "validation.head()"
      ],
      "execution_count": 24,
      "outputs": [
        {
          "output_type": "execute_result",
          "data": {
            "text/html": [
              "<div>\n",
              "<style scoped>\n",
              "    .dataframe tbody tr th:only-of-type {\n",
              "        vertical-align: middle;\n",
              "    }\n",
              "\n",
              "    .dataframe tbody tr th {\n",
              "        vertical-align: top;\n",
              "    }\n",
              "\n",
              "    .dataframe thead th {\n",
              "        text-align: right;\n",
              "    }\n",
              "</style>\n",
              "<table border=\"1\" class=\"dataframe\">\n",
              "  <thead>\n",
              "    <tr style=\"text-align: right;\">\n",
              "      <th></th>\n",
              "      <th>rating</th>\n",
              "      <th>review</th>\n",
              "    </tr>\n",
              "  </thead>\n",
              "  <tbody>\n",
              "    <tr>\n",
              "      <th>2</th>\n",
              "      <td>5</td>\n",
              "      <td>Love This Phone This is a great, reliable phon...</td>\n",
              "    </tr>\n",
              "    <tr>\n",
              "      <th>3</th>\n",
              "      <td>3</td>\n",
              "      <td>Love the Phone, BUT...! I love the phone and a...</td>\n",
              "    </tr>\n",
              "    <tr>\n",
              "      <th>4</th>\n",
              "      <td>4</td>\n",
              "      <td>Great phone service and options, lousy case! T...</td>\n",
              "    </tr>\n",
              "    <tr>\n",
              "      <th>5</th>\n",
              "      <td>4</td>\n",
              "      <td>Worked great for me Hello, I have this phone a...</td>\n",
              "    </tr>\n",
              "    <tr>\n",
              "      <th>17</th>\n",
              "      <td>1</td>\n",
              "      <td>Phones locked 1 star because the phones locked...</td>\n",
              "    </tr>\n",
              "  </tbody>\n",
              "</table>\n",
              "</div>"
            ],
            "text/plain": [
              "    rating                                             review\n",
              "2        5  Love This Phone This is a great, reliable phon...\n",
              "3        3  Love the Phone, BUT...! I love the phone and a...\n",
              "4        4  Great phone service and options, lousy case! T...\n",
              "5        4  Worked great for me Hello, I have this phone a...\n",
              "17       1  Phones locked 1 star because the phones locked..."
            ]
          },
          "metadata": {
            "tags": []
          },
          "execution_count": 24
        }
      ]
    },
    {
      "cell_type": "code",
      "metadata": {
        "id": "nB_BTIeEM869",
        "colab_type": "code",
        "colab": {
          "base_uri": "https://localhost:8080/",
          "height": 34
        },
        "outputId": "c06dd492-6f58-4f05-ad0b-f836597fe71f"
      },
      "source": [
        "## validation set shape\n",
        "validation.shape"
      ],
      "execution_count": 25,
      "outputs": [
        {
          "output_type": "execute_result",
          "data": {
            "text/plain": [
              "(13591, 2)"
            ]
          },
          "metadata": {
            "tags": []
          },
          "execution_count": 25
        }
      ]
    },
    {
      "cell_type": "markdown",
      "metadata": {
        "id": "4HXvTLK_iKxu",
        "colab_type": "text"
      },
      "source": [
        "## **Step4: Preprocessing Data**"
      ]
    },
    {
      "cell_type": "code",
      "metadata": {
        "id": "Z7rkEpgbiJmu",
        "colab_type": "code",
        "colab": {}
      },
      "source": [
        "import string \n",
        "import nltk"
      ],
      "execution_count": 26,
      "outputs": []
    },
    {
      "cell_type": "code",
      "metadata": {
        "id": "6grAR-ZfwEHO",
        "colab_type": "code",
        "colab": {}
      },
      "source": [
        "## download nltk library \n",
        "nltk.download(\"popular\")"
      ],
      "execution_count": null,
      "outputs": []
    },
    {
      "cell_type": "code",
      "metadata": {
        "id": "3uQJ9_CWiWOK",
        "colab_type": "code",
        "colab": {}
      },
      "source": [
        "def clean_text(text):\n",
        "  # convert to lowercase\n",
        "  text = text.lower()\n",
        "  # remove punctuation and digits \n",
        "  punc_digits = '!\"#$%&\\'()*+,-./:;<=>?@[\\\\]^_`{|}~0123456789\\n\\t'\n",
        "  text = text.translate(str.maketrans('','',punc_digits))\n",
        "  # tokenize \n",
        "  tokens = nltk.word_tokenize(text)\n",
        "  # lemmatize and remove stopwords\n",
        "  stopwords = nltk.corpus.stopwords.words('english')\n",
        "  lemmatizer = nltk.stem.WordNetLemmatizer()\n",
        "  new_text = ''\n",
        "  for token in tokens:\n",
        "    # word rooting\n",
        "    token = lemmatizer.lemmatize(token)\n",
        "    if token not in stopwords:\n",
        "      # not stopword add to array\n",
        "      new_text = new_text + ' ' + token\n",
        "  return new_text"
      ],
      "execution_count": 28,
      "outputs": []
    },
    {
      "cell_type": "code",
      "metadata": {
        "id": "RKds5tDdj7gs",
        "colab_type": "code",
        "colab": {}
      },
      "source": [
        "## preprocessing train set \n",
        "train['review'] = train['review'].map(lambda t: clean_text(t))"
      ],
      "execution_count": 29,
      "outputs": []
    },
    {
      "cell_type": "code",
      "metadata": {
        "id": "cnC9Q0V9OnkK",
        "colab_type": "code",
        "colab": {
          "base_uri": "https://localhost:8080/",
          "height": 204
        },
        "outputId": "8ba331e3-5658-41a6-9bf5-530112cc8be5"
      },
      "source": [
        "## show train set\n",
        "train.head()"
      ],
      "execution_count": 30,
      "outputs": [
        {
          "output_type": "execute_result",
          "data": {
            "text/html": [
              "<div>\n",
              "<style scoped>\n",
              "    .dataframe tbody tr th:only-of-type {\n",
              "        vertical-align: middle;\n",
              "    }\n",
              "\n",
              "    .dataframe tbody tr th {\n",
              "        vertical-align: top;\n",
              "    }\n",
              "\n",
              "    .dataframe thead th {\n",
              "        text-align: right;\n",
              "    }\n",
              "</style>\n",
              "<table border=\"1\" class=\"dataframe\">\n",
              "  <thead>\n",
              "    <tr style=\"text-align: right;\">\n",
              "      <th></th>\n",
              "      <th>rating</th>\n",
              "      <th>review</th>\n",
              "    </tr>\n",
              "  </thead>\n",
              "  <tbody>\n",
              "    <tr>\n",
              "      <th>19375</th>\n",
              "      <td>5</td>\n",
              "      <td>el celular está en buenas condiciones ubicar ...</td>\n",
              "    </tr>\n",
              "    <tr>\n",
              "      <th>67536</th>\n",
              "      <td>3</td>\n",
              "      <td>okay phone mediocre battery life really need ...</td>\n",
              "    </tr>\n",
              "    <tr>\n",
              "      <th>29537</th>\n",
              "      <td>3</td>\n",
              "      <td>buy phone warranty seems like break year grea...</td>\n",
              "    </tr>\n",
              "    <tr>\n",
              "      <th>55767</th>\n",
              "      <td>5</td>\n",
              "      <td>nice phone bought year old daughter replace z...</td>\n",
              "    </tr>\n",
              "    <tr>\n",
              "      <th>31352</th>\n",
              "      <td>5</td>\n",
              "      <td>best purchase bought business work great cost...</td>\n",
              "    </tr>\n",
              "  </tbody>\n",
              "</table>\n",
              "</div>"
            ],
            "text/plain": [
              "       rating                                             review\n",
              "19375       5   el celular está en buenas condiciones ubicar ...\n",
              "67536       3   okay phone mediocre battery life really need ...\n",
              "29537       3   buy phone warranty seems like break year grea...\n",
              "55767       5   nice phone bought year old daughter replace z...\n",
              "31352       5   best purchase bought business work great cost..."
            ]
          },
          "metadata": {
            "tags": []
          },
          "execution_count": 30
        }
      ]
    },
    {
      "cell_type": "code",
      "metadata": {
        "id": "im2JuwJGNRRd",
        "colab_type": "code",
        "colab": {}
      },
      "source": [
        "## preprocessing validation set\n",
        "validation['review'] = validation['review'].apply(lambda t: clean_text(t))"
      ],
      "execution_count": 31,
      "outputs": []
    },
    {
      "cell_type": "code",
      "metadata": {
        "id": "AjKBNht7O5al",
        "colab_type": "code",
        "colab": {
          "base_uri": "https://localhost:8080/",
          "height": 204
        },
        "outputId": "ccfa9acd-6762-4a15-9e03-401b7403452f"
      },
      "source": [
        "## show validation set\n",
        "validation.head()"
      ],
      "execution_count": 32,
      "outputs": [
        {
          "output_type": "execute_result",
          "data": {
            "text/html": [
              "<div>\n",
              "<style scoped>\n",
              "    .dataframe tbody tr th:only-of-type {\n",
              "        vertical-align: middle;\n",
              "    }\n",
              "\n",
              "    .dataframe tbody tr th {\n",
              "        vertical-align: top;\n",
              "    }\n",
              "\n",
              "    .dataframe thead th {\n",
              "        text-align: right;\n",
              "    }\n",
              "</style>\n",
              "<table border=\"1\" class=\"dataframe\">\n",
              "  <thead>\n",
              "    <tr style=\"text-align: right;\">\n",
              "      <th></th>\n",
              "      <th>rating</th>\n",
              "      <th>review</th>\n",
              "    </tr>\n",
              "  </thead>\n",
              "  <tbody>\n",
              "    <tr>\n",
              "      <th>2</th>\n",
              "      <td>5</td>\n",
              "      <td>love phone great reliable phone also purchase...</td>\n",
              "    </tr>\n",
              "    <tr>\n",
              "      <th>3</th>\n",
              "      <td>3</td>\n",
              "      <td>love phone love phone really need one didnt e...</td>\n",
              "    </tr>\n",
              "    <tr>\n",
              "      <th>4</th>\n",
              "      <td>4</td>\n",
              "      <td>great phone service option lousy case phone h...</td>\n",
              "    </tr>\n",
              "    <tr>\n",
              "      <th>5</th>\n",
              "      <td>4</td>\n",
              "      <td>worked great hello phone used decided buy fli...</td>\n",
              "    </tr>\n",
              "    <tr>\n",
              "      <th>17</th>\n",
              "      <td>1</td>\n",
              "      <td>phone locked star phone locked pay additional...</td>\n",
              "    </tr>\n",
              "  </tbody>\n",
              "</table>\n",
              "</div>"
            ],
            "text/plain": [
              "    rating                                             review\n",
              "2        5   love phone great reliable phone also purchase...\n",
              "3        3   love phone love phone really need one didnt e...\n",
              "4        4   great phone service option lousy case phone h...\n",
              "5        4   worked great hello phone used decided buy fli...\n",
              "17       1   phone locked star phone locked pay additional..."
            ]
          },
          "metadata": {
            "tags": []
          },
          "execution_count": 32
        }
      ]
    },
    {
      "cell_type": "code",
      "metadata": {
        "id": "D726gsHnkFIm",
        "colab_type": "code",
        "colab": {}
      },
      "source": [
        ""
      ],
      "execution_count": 32,
      "outputs": []
    },
    {
      "cell_type": "markdown",
      "metadata": {
        "id": "Gf_BVabxi_6f",
        "colab_type": "text"
      },
      "source": [
        "## **Step5: Extract Features**"
      ]
    },
    {
      "cell_type": "code",
      "metadata": {
        "id": "69ACKvN5oBij",
        "colab_type": "code",
        "colab": {}
      },
      "source": [
        "## hyperparameters \n",
        "max_length = 200\n",
        "oov_token = '<OOV>'\n",
        "trunc_type = 'post'\n",
        "padding_type = 'post'\n",
        "embedding_dim = 100"
      ],
      "execution_count": 33,
      "outputs": []
    },
    {
      "cell_type": "markdown",
      "metadata": {
        "id": "qUs_MBfjPKQN",
        "colab_type": "text"
      },
      "source": [
        "#### **Text Data Vectorization**"
      ]
    },
    {
      "cell_type": "code",
      "metadata": {
        "id": "uCO0qnkEs7Fi",
        "colab_type": "code",
        "colab": {}
      },
      "source": [
        "from tensorflow.keras.preprocessing.text import Tokenizer\n",
        "from tensorflow.keras.preprocessing.sequence import pad_sequences"
      ],
      "execution_count": 34,
      "outputs": []
    },
    {
      "cell_type": "code",
      "metadata": {
        "id": "6j0DZM5gPp9K",
        "colab_type": "code",
        "colab": {}
      },
      "source": [
        "## create tokenizer\n",
        "tokenizer = Tokenizer(oov_token= oov_token)\n",
        "tokenizer.fit_on_texts(train['review'])"
      ],
      "execution_count": 35,
      "outputs": []
    },
    {
      "cell_type": "code",
      "metadata": {
        "id": "d9YdjoQFrlK8",
        "colab_type": "code",
        "colab": {
          "base_uri": "https://localhost:8080/",
          "height": 204
        },
        "outputId": "ec0a87ab-3b8b-49da-a7de-f430b8b2b67b"
      },
      "source": [
        "## list of word index \n",
        "word_index = tokenizer.word_index \n",
        "display(len(word_index))\n",
        "display(dict(list(word_index.items())[0:10]))"
      ],
      "execution_count": 36,
      "outputs": [
        {
          "output_type": "display_data",
          "data": {
            "text/plain": [
              "37446"
            ]
          },
          "metadata": {
            "tags": []
          }
        },
        {
          "output_type": "display_data",
          "data": {
            "text/plain": [
              "{'<OOV>': 1,\n",
              " 'battery': 7,\n",
              " 'good': 5,\n",
              " 'great': 4,\n",
              " 'like': 10,\n",
              " 'one': 9,\n",
              " 'phone': 2,\n",
              " 'screen': 8,\n",
              " 'wa': 3,\n",
              " 'work': 6}"
            ]
          },
          "metadata": {
            "tags": []
          }
        }
      ]
    },
    {
      "cell_type": "code",
      "metadata": {
        "id": "pBenkzsisFhx",
        "colab_type": "code",
        "colab": {}
      },
      "source": [
        "## convert text to vector with same size \n",
        "train_sequences = tokenizer.texts_to_sequences(train['review'])\n",
        "x_train = pad_sequences(train_sequences,maxlen=max_length,padding=padding_type , truncating=trunc_type)\n",
        "y_train = train['rating'].to_numpy().reshape((-1,1))"
      ],
      "execution_count": 37,
      "outputs": []
    },
    {
      "cell_type": "code",
      "metadata": {
        "id": "kf70QE5kwYzE",
        "colab_type": "code",
        "colab": {
          "base_uri": "https://localhost:8080/",
          "height": 51
        },
        "outputId": "5d830fa0-6461-4e89-f17b-4e038993a33e"
      },
      "source": [
        "## train set shape \n",
        "display(x_train.shape)\n",
        "display(y_train.shape)"
      ],
      "execution_count": 38,
      "outputs": [
        {
          "output_type": "display_data",
          "data": {
            "text/plain": [
              "(54363, 200)"
            ]
          },
          "metadata": {
            "tags": []
          }
        },
        {
          "output_type": "display_data",
          "data": {
            "text/plain": [
              "(54363, 1)"
            ]
          },
          "metadata": {
            "tags": []
          }
        }
      ]
    },
    {
      "cell_type": "code",
      "metadata": {
        "id": "qVnZcz4YsehW",
        "colab_type": "code",
        "colab": {}
      },
      "source": [
        "## convert text to vector with same size \n",
        "validation_sequences = tokenizer.texts_to_sequences(validation['review'])\n",
        "x_validation = pad_sequences(validation_sequences,maxlen=max_length,padding=padding_type , truncating=trunc_type)\n",
        "y_validation = validation['rating'].to_numpy().reshape((-1,1))"
      ],
      "execution_count": 39,
      "outputs": []
    },
    {
      "cell_type": "code",
      "metadata": {
        "id": "YmkOWSqwu3MA",
        "colab_type": "code",
        "colab": {
          "base_uri": "https://localhost:8080/",
          "height": 51
        },
        "outputId": "223a7152-6152-43d8-8fa0-c2f165798902"
      },
      "source": [
        "## validation set shape\n",
        "display(x_validation.shape)\n",
        "display(y_validation.shape)"
      ],
      "execution_count": 40,
      "outputs": [
        {
          "output_type": "display_data",
          "data": {
            "text/plain": [
              "(13591, 200)"
            ]
          },
          "metadata": {
            "tags": []
          }
        },
        {
          "output_type": "display_data",
          "data": {
            "text/plain": [
              "(13591, 1)"
            ]
          },
          "metadata": {
            "tags": []
          }
        }
      ]
    },
    {
      "cell_type": "code",
      "metadata": {
        "id": "vV_G98tyu_My",
        "colab_type": "code",
        "colab": {}
      },
      "source": [
        ""
      ],
      "execution_count": 40,
      "outputs": []
    },
    {
      "cell_type": "markdown",
      "metadata": {
        "id": "CEp7lq1gs4PX",
        "colab_type": "text"
      },
      "source": [
        "#### **Embedding Matrix with Word2Vec**"
      ]
    },
    {
      "cell_type": "code",
      "metadata": {
        "id": "tbMCTrI3tFXI",
        "colab_type": "code",
        "colab": {}
      },
      "source": [
        "from gensim.models import Word2Vec\n",
        "import numpy as np \n",
        "import warnings\n",
        "\n",
        "warnings.filterwarnings(\"ignore\", category=DeprecationWarning)"
      ],
      "execution_count": 41,
      "outputs": []
    },
    {
      "cell_type": "code",
      "metadata": {
        "id": "8bhRwPAozhml",
        "colab_type": "code",
        "colab": {}
      },
      "source": [
        "## hyperparameter \n",
        "vocab_size = len(word_index) + 1"
      ],
      "execution_count": 42,
      "outputs": []
    },
    {
      "cell_type": "code",
      "metadata": {
        "id": "EZRf8Qy0xvla",
        "colab_type": "code",
        "colab": {}
      },
      "source": [
        "## convert text to list of words\n",
        "docs = []\n",
        "for doc in train['review'].tolist(): \n",
        "  docs.append(doc.split())"
      ],
      "execution_count": 43,
      "outputs": []
    },
    {
      "cell_type": "code",
      "metadata": {
        "id": "cA1T15B7xivv",
        "colab_type": "code",
        "colab": {
          "base_uri": "https://localhost:8080/",
          "height": 34
        },
        "outputId": "1c246189-ab88-47e3-a577-8c69581fa858"
      },
      "source": [
        "## create model \n",
        "model = Word2Vec(docs ,min_count=1, size=embedding_dim , window=5,workers=4)\n",
        "print(model)"
      ],
      "execution_count": 44,
      "outputs": [
        {
          "output_type": "stream",
          "text": [
            "Word2Vec(vocab=37445, size=100, alpha=0.025)\n"
          ],
          "name": "stdout"
        }
      ]
    },
    {
      "cell_type": "code",
      "metadata": {
        "id": "y-Am7ruX9xOs",
        "colab_type": "code",
        "colab": {}
      },
      "source": [
        "vocabulary = list(model.wv.vocab)\n",
        "vectors = model[model.wv.vocab]"
      ],
      "execution_count": 45,
      "outputs": []
    },
    {
      "cell_type": "code",
      "metadata": {
        "id": "MfeRKrwK-gqG",
        "colab_type": "code",
        "colab": {}
      },
      "source": [
        "## create dictionary (key , value) - emdeddings_index(word , vector)\n",
        "embeddings_index = {}\n",
        "for i , word in enumerate(vocabulary):\n",
        "  embeddings_index[word] = vectors[i]"
      ],
      "execution_count": 46,
      "outputs": []
    },
    {
      "cell_type": "code",
      "metadata": {
        "id": "Vw6IZmiOypsU",
        "colab_type": "code",
        "colab": {}
      },
      "source": [
        "## convert word in word_index to vector\n",
        "embedding_matrix = np.random.random((vocab_size, embedding_dim))\n",
        "for word, i in word_index.items():\n",
        "    embedding_vector = embeddings_index.get(word)\n",
        "    if embedding_vector is not None:\n",
        "        embedding_matrix[i] = embedding_vector"
      ],
      "execution_count": 47,
      "outputs": []
    },
    {
      "cell_type": "code",
      "metadata": {
        "id": "1PqMa-KT6NTp",
        "colab_type": "code",
        "colab": {
          "base_uri": "https://localhost:8080/",
          "height": 34
        },
        "outputId": "af1238eb-57a0-4fa4-b750-1d49cee7e02f"
      },
      "source": [
        "## data shape\n",
        "embedding_matrix.shape"
      ],
      "execution_count": 48,
      "outputs": [
        {
          "output_type": "execute_result",
          "data": {
            "text/plain": [
              "(37447, 100)"
            ]
          },
          "metadata": {
            "tags": []
          },
          "execution_count": 48
        }
      ]
    },
    {
      "cell_type": "markdown",
      "metadata": {
        "id": "YClPuCTQtKFS",
        "colab_type": "text"
      },
      "source": [
        "#### **Embedding Matrix with GloVe**"
      ]
    },
    {
      "cell_type": "code",
      "metadata": {
        "id": "5xCqszxhtUS2",
        "colab_type": "code",
        "colab": {}
      },
      "source": [
        "import tensorflow as tf\n",
        "import pathlib"
      ],
      "execution_count": null,
      "outputs": []
    },
    {
      "cell_type": "code",
      "metadata": {
        "id": "nROf3csHR9Cc",
        "colab_type": "code",
        "colab": {}
      },
      "source": [
        "## hyperparameter \n",
        "vocab_size = len(word_index) + 1"
      ],
      "execution_count": null,
      "outputs": []
    },
    {
      "cell_type": "code",
      "metadata": {
        "id": "K2kF4tzLPldm",
        "colab_type": "code",
        "colab": {}
      },
      "source": [
        "## GloVe_100d url\n",
        "GloVe_URL = \"https://media.githubusercontent.com/media/allenai/spv2/master/model/glove.6B.100d.txt.gz\""
      ],
      "execution_count": null,
      "outputs": []
    },
    {
      "cell_type": "code",
      "metadata": {
        "id": "Pz8AadzXPuPN",
        "colab_type": "code",
        "colab": {}
      },
      "source": [
        "## download data from url \n",
        "GloVe = tf.keras.utils.get_file(fname=\"GloVe\",origin= GloVe,extract=True)\n",
        "GloVe_file_path = pathlib.Path(GloVe) + '/glove.6B.100d.txt'"
      ],
      "execution_count": null,
      "outputs": []
    },
    {
      "cell_type": "code",
      "metadata": {
        "id": "cNZkyEbSP_Kw",
        "colab_type": "code",
        "colab": {}
      },
      "source": [
        "## create dictionary (key , value) - emdeddings_index(word , vector)\n",
        "embeddings_index = {}\n",
        "with open(GloVe_file_path , 'r' , encoding=\"UTF-8\") as f:\n",
        "  for row in f.readlines():\n",
        "    values = row.replace('\\n' , '').split()\n",
        "    embeddings_index[values[0]] = np.asarray(values[1:] , dtype=np.float)"
      ],
      "execution_count": null,
      "outputs": []
    },
    {
      "cell_type": "code",
      "metadata": {
        "id": "ihVSfvddR0UP",
        "colab_type": "code",
        "colab": {}
      },
      "source": [
        "## convert word in word_index to vector\n",
        "embedding_matrix = np.random.random((vocab_size, embedding_dim))\n",
        "for word, i in word_index.items():\n",
        "    embedding_vector = embeddings_index.get(word)\n",
        "    if embedding_vector is not None:\n",
        "        embedding_matrix[i] = embedding_vector"
      ],
      "execution_count": null,
      "outputs": []
    },
    {
      "cell_type": "code",
      "metadata": {
        "id": "TSb36z7QSAjp",
        "colab_type": "code",
        "colab": {}
      },
      "source": [
        "## data shape\n",
        "embedding_matrix.shape"
      ],
      "execution_count": null,
      "outputs": []
    },
    {
      "cell_type": "markdown",
      "metadata": {
        "id": "FPVH4kT0HxQR",
        "colab_type": "text"
      },
      "source": [
        "## **Step6: Training Model**"
      ]
    },
    {
      "cell_type": "code",
      "metadata": {
        "id": "Zw8UOphvHwXU",
        "colab_type": "code",
        "colab": {}
      },
      "source": [
        "from tensorflow.keras import Sequential\n",
        "from tensorflow.keras.layers import Embedding , Bidirectional , LSTM , Dense , Dropout\n",
        "from tensorflow.keras.initializers import Constant"
      ],
      "execution_count": 55,
      "outputs": []
    },
    {
      "cell_type": "code",
      "metadata": {
        "id": "YCe6oVUaIDny",
        "colab_type": "code",
        "colab": {
          "base_uri": "https://localhost:8080/",
          "height": 323
        },
        "outputId": "fb7acb93-8450-4a17-de0d-6168bd6efb4a"
      },
      "source": [
        "## create model \n",
        "model = Sequential([\n",
        "                    Embedding(vocab_size,embedding_dim,input_length=max_length , embeddings_initializer=Constant(embedding_matrix) , trainable=False),\n",
        "                    Bidirectional(LSTM(embedding_dim)),\n",
        "                    Dropout(0.5),\n",
        "                    Dense(embedding_dim , activation='relu'),\n",
        "                    Dense(6,activation='softmax')\n",
        "])\n",
        "model.summary()"
      ],
      "execution_count": 56,
      "outputs": [
        {
          "output_type": "stream",
          "text": [
            "Model: \"sequential_1\"\n",
            "_________________________________________________________________\n",
            "Layer (type)                 Output Shape              Param #   \n",
            "=================================================================\n",
            "embedding_1 (Embedding)      (None, 200, 100)          3744700   \n",
            "_________________________________________________________________\n",
            "bidirectional_1 (Bidirection (None, 200)               160800    \n",
            "_________________________________________________________________\n",
            "dropout (Dropout)            (None, 200)               0         \n",
            "_________________________________________________________________\n",
            "dense_2 (Dense)              (None, 100)               20100     \n",
            "_________________________________________________________________\n",
            "dense_3 (Dense)              (None, 6)                 606       \n",
            "=================================================================\n",
            "Total params: 3,926,206\n",
            "Trainable params: 181,506\n",
            "Non-trainable params: 3,744,700\n",
            "_________________________________________________________________\n"
          ],
          "name": "stdout"
        }
      ]
    },
    {
      "cell_type": "code",
      "metadata": {
        "id": "DgOYN-IAJiw9",
        "colab_type": "code",
        "colab": {}
      },
      "source": [
        "## compile model \n",
        "model.compile(loss='sparse_categorical_crossentropy', optimizer='adam' , metrics=['accuracy'])"
      ],
      "execution_count": 57,
      "outputs": []
    },
    {
      "cell_type": "code",
      "metadata": {
        "id": "NCCA8pcZKCSB",
        "colab_type": "code",
        "colab": {
          "base_uri": "https://localhost:8080/",
          "height": 357
        },
        "outputId": "07624ffc-0678-4b9f-f654-969dac0eeb59"
      },
      "source": [
        "## fit model \n",
        "history = model.fit(x=x_train , y=y_train , epochs=10 , validation_data=(x_validation , y_validation),verbose=1)"
      ],
      "execution_count": 58,
      "outputs": [
        {
          "output_type": "stream",
          "text": [
            "Epoch 1/10\n",
            "1699/1699 [==============================] - 491s 289ms/step - loss: 0.7739 - accuracy: 0.7225 - val_loss: 0.6913 - val_accuracy: 0.7489\n",
            "Epoch 2/10\n",
            "1699/1699 [==============================] - 488s 287ms/step - loss: 0.6973 - accuracy: 0.7443 - val_loss: 0.6815 - val_accuracy: 0.7525\n",
            "Epoch 3/10\n",
            "1699/1699 [==============================] - 499s 294ms/step - loss: 0.6743 - accuracy: 0.7506 - val_loss: 0.6692 - val_accuracy: 0.7544\n",
            "Epoch 4/10\n",
            "1699/1699 [==============================] - 496s 292ms/step - loss: 0.6567 - accuracy: 0.7571 - val_loss: 0.6621 - val_accuracy: 0.7606\n",
            "Epoch 5/10\n",
            "1699/1699 [==============================] - 481s 283ms/step - loss: 0.6421 - accuracy: 0.7614 - val_loss: 0.6656 - val_accuracy: 0.7559\n",
            "Epoch 6/10\n",
            "1699/1699 [==============================] - 506s 298ms/step - loss: 0.6247 - accuracy: 0.7648 - val_loss: 0.6683 - val_accuracy: 0.7590\n",
            "Epoch 7/10\n",
            "1699/1699 [==============================] - 510s 300ms/step - loss: 0.6103 - accuracy: 0.7711 - val_loss: 0.6587 - val_accuracy: 0.7604\n",
            "Epoch 8/10\n",
            "1699/1699 [==============================] - 473s 279ms/step - loss: 0.5951 - accuracy: 0.7777 - val_loss: 0.6595 - val_accuracy: 0.7593\n",
            "Epoch 9/10\n",
            "1699/1699 [==============================] - 490s 288ms/step - loss: 0.5758 - accuracy: 0.7834 - val_loss: 0.6757 - val_accuracy: 0.7544\n",
            "Epoch 10/10\n",
            "1699/1699 [==============================] - 469s 276ms/step - loss: 0.5621 - accuracy: 0.7882 - val_loss: 0.6701 - val_accuracy: 0.7570\n"
          ],
          "name": "stdout"
        }
      ]
    },
    {
      "cell_type": "markdown",
      "metadata": {
        "id": "KSfk7X4ITR3j",
        "colab_type": "text"
      },
      "source": [
        "## **Step7: Evaluating Model**"
      ]
    },
    {
      "cell_type": "code",
      "metadata": {
        "id": "_rigG2-0TaSU",
        "colab_type": "code",
        "colab": {}
      },
      "source": [
        "import matplotlib.pyplot as plt"
      ],
      "execution_count": 59,
      "outputs": []
    },
    {
      "cell_type": "code",
      "metadata": {
        "id": "vuebW5spSexV",
        "colab_type": "code",
        "colab": {
          "base_uri": "https://localhost:8080/",
          "height": 334
        },
        "outputId": "65c190b8-66da-47bf-fe46-672906d43797"
      },
      "source": [
        "fig , (ax1 , ax2) = plt.subplots(nrows=1 , ncols=2,figsize=(10,5))\n",
        "# plot accuracy \n",
        "ax1.plot(history.history[\"accuracy\"],label=\"accuracy\")\n",
        "ax1.plot(history.history[\"val_accuracy\"],label=\"val_accuracy\")\n",
        "ax1.set_xlabel(\"Epochs\")\n",
        "ax1.set_ylabel(\"accuracy\")\n",
        "ax1.legend()\n",
        "# plot loss\n",
        "ax2.plot(history.history[\"loss\"] , label=\"loss\")\n",
        "ax2.plot(history.history[\"val_loss\"] , label = \"val_loss\")\n",
        "ax2.set_xlabel(\"Epochs\")\n",
        "ax2.set_ylabel(\"loss\")\n",
        "\n",
        "ax2.legend()\n",
        "plt.show()"
      ],
      "execution_count": 62,
      "outputs": [
        {
          "output_type": "display_data",
          "data": {
            "image/png": "[encoded data removed]",
            "text/plain": [
              "<Figure size 720x360 with 2 Axes>"
            ]
          },
          "metadata": {
            "tags": [],
            "needs_background": "light"
          }
        }
      ]
    }
  ]
}